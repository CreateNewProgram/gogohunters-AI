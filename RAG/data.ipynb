{
 "cells": [
  {
   "cell_type": "markdown",
   "id": "8b7a235c",
   "metadata": {},
   "source": [
    "# 문서 만들기 (아직 미완성) 다른 방법 찾는 중"
   ]
  },
  {
   "cell_type": "code",
   "execution_count": null,
   "id": "ccc733f3",
   "metadata": {},
   "outputs": [],
   "source": [
    "from fpdf import FPDF\n",
    "import pandas as pd\n",
    "import os\n",
    "\n",
    "TEXT = \"\"\"\\\n",
    "우항리 공룡·익룡·새 발자국 화석지(천연기념물 제394호)는\n",
    "대한민국 전라남도 해남군 황산면 우항리에 있는 백악기 후기(Campanian, 약 8300만~8500만 년 전) 지층입니다.\n",
    "\n",
    "이곳에서는 공룡 발자국 823개, 익룡 발자국 443개, 물갈퀴 새 발자국 등 다양한 화석이 보존되어 있으며,\n",
    "Uhangri Formation의 석호 변 퇴적층 특성을 보여주는 리플마크와 셰일 또한 특징입니다.\n",
    "\n",
    "이 지역에는 2007년 개관한 '해남공룡박물관'이 있으며, 약 447점 규모의 화석 전시와\n",
    "공룡알, 발자국, 익룡/조류 발자국, 식물화석 등이 전시되어 교육 관광 자원으로 활용되고 있습니다.\n",
    "\"\"\"\n",
    "\n",
    "# 디렉토리 생성\n",
    "os.makedirs(\"docs\", exist_ok=True)\n",
    "\n",
    "# 1. 텍스트 파일\n",
    "with open(\"docs/우항리_공룡알_정보.txt\", \"w\", encoding=\"utf-8\") as f:\n",
    "    f.write(TEXT)\n",
    "\n",
    "# 2. PDF 파일 생성\n",
    "pdf = FPDF()\n",
    "pdf.add_page()\n",
    "pdf.set_font(\"Arial\", size=12)\n",
    "for line in TEXT.split(\"\\n\"):\n",
    "    pdf.multi_cell(0, 10, line)\n",
    "pdf.output(\"docs/우항리_공룡알_정보.pdf\")\n",
    "\n",
    "# 3. CSV 파일 생성\n",
    "csv_data = {\n",
    "    \"항목\": [\n",
    "        \"지정번호\", \"소재지\", \"지정일\", \"형성시대\", \"공룡발자국 수\", \"익룡발자국 수\",\n",
    "        \"비고\", \"박물관 개관연도\", \"전시물 수\"\n",
    "    ],\n",
    "    \"내용\": [\n",
    "        \"천연기념물 394호\", \"전남 해남군 황산면 우항리\", \"1998-10-17\", \"백악기 후기 (약 8300만~8500만 년)\",\n",
    "        \"823개\", \"443개\", \"물갈퀴 새 발자국 포함\", \"2007년\", \"447점\"\n",
    "    ]\n",
    "}\n",
    "pd.DataFrame(csv_data).to_csv(\n",
    "    \"docs/우항리_공룡알_정보.csv\", index=False, encoding=\"utf-8-sig\"\n",
    ")\n",
    "\n",
    "print(\"✅ docs/ 폴더 내 3개 파일 생성 완료!\")\n"
   ]
  },
  {
   "cell_type": "markdown",
   "id": "1f658cf9",
   "metadata": {},
   "source": [
    "# 테스트 음성 파일 만들기"
   ]
  },
  {
   "cell_type": "code",
   "execution_count": null,
   "id": "35090783",
   "metadata": {},
   "outputs": [
    {
     "ename": "",
     "evalue": "",
     "output_type": "error",
     "traceback": [
      "\u001b[1;31m커널을 시작하지 못했습니다. \n",
      "\u001b[1;31m커널이 종료되었습니다. 오류: ... 자세한 내용은 Jupyter <a href='command:jupyter.viewOutput'>로그</a>를 참조하세요."
     ]
    }
   ],
   "source": [
    "from gtts import gTTS\n",
    "from pydub import AudioSegment\n",
    "\n",
    "# 사용자가 입력할 텍스트\n",
    "input_text = input(\"텍스트를 입력하세요: \")\n",
    "\n",
    "# gTTS를 사용하여 텍스트를 음성으로 변환 (언어는 한국어로 설정)\n",
    "tts = gTTS(text=input_text, lang='ko')\n",
    "\n",
    "# mp3 파일로 저장\n",
    "mp3_filename = \"output.mp3\"\n",
    "tts.save(mp3_filename)\n",
    "\n",
    "# mp3 파일을 wav 파일로 변환\n",
    "sound = AudioSegment.from_mp3(mp3_filename)\n",
    "wav_filename = \"output.wav\"\n",
    "sound.export(wav_filename, format=\"wav\")\n",
    "\n",
    "print(f\"WAV 파일로 저장되었습니다: {wav_filename}\")"
   ]
  }
 ],
 "metadata": {
  "kernelspec": {
   "display_name": "gogo_tts",
   "language": "python",
   "name": "python3"
  },
  "language_info": {
   "codemirror_mode": {
    "name": "ipython",
    "version": 3
   },
   "file_extension": ".py",
   "mimetype": "text/x-python",
   "name": "python",
   "nbconvert_exporter": "python",
   "pygments_lexer": "ipython3",
   "version": "3.10.18"
  }
 },
 "nbformat": 4,
 "nbformat_minor": 5
}
