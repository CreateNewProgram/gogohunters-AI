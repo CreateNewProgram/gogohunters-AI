{
 "cells": [
  {
   "cell_type": "code",
   "execution_count": null,
   "id": "3ac14320",
   "metadata": {},
   "outputs": [
    {
     "name": "stdout",
     "output_type": "stream",
     "text": [
      "✅ 메타데이터 전송 완료\n",
      "✅ 오디오 189006 bytes 전송 완료\n"
     ]
    },
    {
     "ename": "ConnectionClosedOK",
     "evalue": "received 1000 (OK); then sent 1000 (OK)",
     "output_type": "error",
     "traceback": [
      "\u001b[1;31m---------------------------------------------------------------------------\u001b[0m",
      "\u001b[1;31mConnectionClosedOK\u001b[0m                        Traceback (most recent call last)",
      "Cell \u001b[1;32mIn[13], line 35\u001b[0m\n\u001b[0;32m     32\u001b[0m         \u001b[38;5;28mprint\u001b[39m(\u001b[38;5;124m\"\u001b[39m\u001b[38;5;124m✅ 서버 음성 응답 저장 완료: response.wav\u001b[39m\u001b[38;5;124m\"\u001b[39m)\n\u001b[0;32m     34\u001b[0m \u001b[38;5;66;03m# Jupyter에서는 이렇게!\u001b[39;00m\n\u001b[1;32m---> 35\u001b[0m \u001b[38;5;28;01mawait\u001b[39;00m send_audio()\n",
      "Cell \u001b[1;32mIn[13], line 25\u001b[0m, in \u001b[0;36msend_audio\u001b[1;34m()\u001b[0m\n\u001b[0;32m     22\u001b[0m \u001b[38;5;28;01mawait\u001b[39;00m websocket\u001b[38;5;241m.\u001b[39msend(audio_data)\n\u001b[0;32m     23\u001b[0m \u001b[38;5;28mprint\u001b[39m(\u001b[38;5;124mf\u001b[39m\u001b[38;5;124m\"\u001b[39m\u001b[38;5;124m✅ 오디오 \u001b[39m\u001b[38;5;132;01m{\u001b[39;00m\u001b[38;5;28mlen\u001b[39m(audio_data)\u001b[38;5;132;01m}\u001b[39;00m\u001b[38;5;124m bytes 전송 완료\u001b[39m\u001b[38;5;124m\"\u001b[39m)\n\u001b[1;32m---> 25\u001b[0m response_meta \u001b[38;5;241m=\u001b[39m \u001b[38;5;28;01mawait\u001b[39;00m websocket\u001b[38;5;241m.\u001b[39mrecv()\n\u001b[0;32m     26\u001b[0m response_meta_json \u001b[38;5;241m=\u001b[39m json\u001b[38;5;241m.\u001b[39mloads(response_meta)\n\u001b[0;32m     27\u001b[0m \u001b[38;5;28mprint\u001b[39m(\u001b[38;5;124mf\u001b[39m\u001b[38;5;124m\"\u001b[39m\u001b[38;5;124m📝 서버 JSON 응답: \u001b[39m\u001b[38;5;132;01m{\u001b[39;00mresponse_meta_json\u001b[38;5;132;01m}\u001b[39;00m\u001b[38;5;124m\"\u001b[39m)\n",
      "File \u001b[1;32mc:\\Users\\com15\\miniconda3\\envs\\gogo_tts\\lib\\site-packages\\websockets\\asyncio\\connection.py:322\u001b[0m, in \u001b[0;36mConnection.recv\u001b[1;34m(self, decode)\u001b[0m\n\u001b[0;32m    318\u001b[0m     \u001b[38;5;66;03m# fallthrough\u001b[39;00m\n\u001b[0;32m    319\u001b[0m \n\u001b[0;32m    320\u001b[0m \u001b[38;5;66;03m# Wait for the protocol state to be CLOSED before accessing close_exc.\u001b[39;00m\n\u001b[0;32m    321\u001b[0m \u001b[38;5;28;01mawait\u001b[39;00m asyncio\u001b[38;5;241m.\u001b[39mshield(\u001b[38;5;28mself\u001b[39m\u001b[38;5;241m.\u001b[39mconnection_lost_waiter)\n\u001b[1;32m--> 322\u001b[0m \u001b[38;5;28;01mraise\u001b[39;00m \u001b[38;5;28mself\u001b[39m\u001b[38;5;241m.\u001b[39mprotocol\u001b[38;5;241m.\u001b[39mclose_exc \u001b[38;5;28;01mfrom\u001b[39;00m\u001b[38;5;250m \u001b[39m\u001b[38;5;21;01mself\u001b[39;00m\u001b[38;5;21;01m.\u001b[39;00m\u001b[38;5;21;01mrecv_exc\u001b[39;00m\n",
      "\u001b[1;31mConnectionClosedOK\u001b[0m: received 1000 (OK); then sent 1000 (OK)"
     ]
    }
   ],
   "source": [
    "import nest_asyncio\n",
    "import asyncio\n",
    "import websockets\n",
    "import json\n",
    "\n",
    "nest_asyncio.apply()\n",
    "\n",
    "async def send_audio():\n",
    "    uri = \"wss://playback-duncan-qualities-until.trycloudflare.com/ws\"\n",
    "\n",
    "    async with websockets.connect(uri) as websocket:\n",
    "        meta = {\n",
    "            \"user_id\": \"user123\",\n",
    "            \"sequence\": 1,\n",
    "            \"timestamp\": \"2025-07-03T15:00:00\"\n",
    "        }\n",
    "        await websocket.send(json.dumps(meta))\n",
    "        print(\"✅ 메타데이터 전송 완료\")\n",
    "\n",
    "        with open(\"test.wav\", \"rb\") as f:\n",
    "            audio_data = f.read()\n",
    "        await websocket.send(audio_data)\n",
    "        print(f\"✅ 오디오 {len(audio_data)} bytes 전송 완료\")\n",
    "\n",
    "        response_meta = await websocket.recv()\n",
    "        response_meta_json = json.loads(response_meta)\n",
    "        print(f\"📝 서버 JSON 응답: {response_meta_json}\")\n",
    "\n",
    "        audio_response = await websocket.recv()\n",
    "        with open(\"response.wav\", \"wb\") as f:\n",
    "            f.write(audio_response)\n",
    "        print(\"✅ 서버 음성 응답 저장 완료: response.wav\")\n",
    "\n",
    "# Jupyter에서는 이렇게!\n",
    "await send_audio()\n"
   ]
  }
 ],
 "metadata": {
  "kernelspec": {
   "display_name": "gogo_tts",
   "language": "python",
   "name": "python3"
  },
  "language_info": {
   "codemirror_mode": {
    "name": "ipython",
    "version": 3
   },
   "file_extension": ".py",
   "mimetype": "text/x-python",
   "name": "python",
   "nbconvert_exporter": "python",
   "pygments_lexer": "ipython3",
   "version": "3.10.18"
  }
 },
 "nbformat": 4,
 "nbformat_minor": 5
}
