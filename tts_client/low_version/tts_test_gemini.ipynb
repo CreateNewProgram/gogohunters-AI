{
 "cells": [
  {
   "cell_type": "code",
   "execution_count": null,
   "id": "d2cbfbe0",
   "metadata": {},
   "outputs": [],
   "source": [
    "import nest_asyncio\n",
    "nest_asyncio.apply()\n",
    "\n",
    "import asyncio\n",
    "import websockets\n",
    "import json\n",
    "import datetime\n",
    "\n",
    "async def send_audio():\n",
    "    uri = \"wss://dramatic-curve-urban-markets.trycloudflare.com/ws\"\n",
    "\n",
    "    # ping_interval=None 으로 타임아웃 해제 + max_size 확장\n",
    "    async with websockets.connect(\n",
    "        uri,\n",
    "        ping_interval=None,\n",
    "        max_size=10 * 1024 * 1024  # 10MB까지 허용\n",
    "    ) as websocket:\n",
    "        # 1) JSON 메타데이터\n",
    "        meta = {\n",
    "            \"user_id\": \"test_user\",\n",
    "            \"sequence\": 1,\n",
    "            \"timestamp\": datetime.datetime.utcnow().isoformat()\n",
    "        }\n",
    "        await websocket.send(json.dumps(meta))\n",
    "        print(\"✅ 메타데이터 전송 완료\")\n",
    "\n",
    "        # 2) 바이너리(테스트용 WAV 파일)\n",
    "        with open(\"test.wav\", \"rb\") as f:\n",
    "            audio_data = f.read()\n",
    "        await websocket.send(audio_data)\n",
    "        print(\"✅ 오디오 데이터 전송 완료\")\n",
    "\n",
    "        # 3) JSON 응답 수신\n",
    "        response_meta = await websocket.recv()\n",
    "        response_json = json.loads(response_meta)\n",
    "        print(f\"✅ 응답 메타데이터: {response_json}\")\n",
    "\n",
    "        # 4) 음성 chunk 수신\n",
    "        pcm_data = await websocket.recv()\n",
    "        print(f\"✅ PCM 데이터 수신: {len(pcm_data)} bytes\")\n",
    "\n",
    "        # 5) 저장 (테스트용)\n",
    "        with open(\"received_from_server.wav\", \"wb\") as f:\n",
    "            f.write(pcm_data)\n",
    "\n",
    "        print(\"🎧 저장 완료. 재생해보세요!\")\n",
    "\n",
    "# asyncio 이벤트루프 실행\n",
    "await send_audio()\n"
   ]
  }
 ],
 "metadata": {
  "language_info": {
   "name": "python"
  }
 },
 "nbformat": 4,
 "nbformat_minor": 5
}
