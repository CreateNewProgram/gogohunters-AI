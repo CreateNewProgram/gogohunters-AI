{
 "cells": [
  {
   "cell_type": "code",
   "execution_count": null,
   "id": "ffb19f53",
   "metadata": {},
   "outputs": [
    {
     "ename": "",
     "evalue": "",
     "output_type": "error",
     "traceback": [
      "\u001b[1;31m커널을 시작하지 못했습니다. \n",
      "\u001b[1;31mAttributeError: 'SelectIOLoop' object has no attribute 'asyncio_loop'. \n",
      "\u001b[1;31m자세한 내용은 Jupyter <a href='command:jupyter.viewOutput'>로그</a>를 참조하세요."
     ]
    }
   ],
   "source": [
    "import nest_asyncio\n",
    "nest_asyncio.apply()\n",
    "\n",
    "import asyncio\n",
    "import websockets\n",
    "import json\n",
    "import datetime\n",
    "\n",
    "async def send_audio():\n",
    "    uri = \"wss://dramatic-curve-urban-markets.trycloudflare.com/ws\"\n",
    "    #uri = \"wss://adapted-charmed-panda.ngrok-free.app/ws\"\n",
    "    # ping_interval=None 으로 타임아웃 해제\n",
    "    async with websockets.connect(uri, ping_interval=None) as websocket:\n",
    "        # 1) JSON 메타데이터\n",
    "        meta = {\n",
    "            \"user_id\": \"test_user\",\n",
    "            \"sequence\": 1,\n",
    "            \"timestamp\": datetime.datetime.utcnow().isoformat()\n",
    "        }\n",
    "        await websocket.send(json.dumps(meta))\n",
    "        print(\"✅ 메타데이터 전송 완료\")\n",
    "\n",
    "        # 2) 바이너리(테스트용 WAV 파일)\n",
    "        with open(\"test.wav\", \"rb\") as f:\n",
    "            audio_data = f.read()\n",
    "        await websocket.send(audio_data)\n",
    "        print(\"✅ 오디오 데이터 전송 완료\")\n",
    "\n",
    "        # 3) JSON 응답 수신\n",
    "        response_meta = await websocket.recv()\n",
    "        response_json = json.loads(response_meta)\n",
    "        print(f\"✅ 응답 메타데이터: {response_json}\")\n",
    "\n",
    "        # 4) 음성 chunk 수신\n",
    "        pcm_data = await websocket.recv()\n",
    "        print(f\"✅ PCM 데이터 수신: {len(pcm_data)} bytes\")\n",
    "\n",
    "        # 5) 저장 (테스트용)\n",
    "        with open(\"received_from_server.wav\", \"wb\") as f:\n",
    "            f.write(pcm_data)\n",
    "\n",
    "        print(\"🎧 저장 완료. 재생해보세요!\")\n",
    "\n",
    "await send_audio()\n"
   ]
  },
  {
   "cell_type": "code",
   "execution_count": null,
   "id": "86299371",
   "metadata": {},
   "outputs": [],
   "source": []
  }
 ],
 "metadata": {
  "kernelspec": {
   "display_name": "gogo_tts",
   "language": "python",
   "name": "python3"
  },
  "language_info": {
   "codemirror_mode": {
    "name": "ipython",
    "version": 3
   },
   "file_extension": ".py",
   "mimetype": "text/x-python",
   "name": "python",
   "nbconvert_exporter": "python",
   "pygments_lexer": "ipython3",
   "version": "3.10.18"
  }
 },
 "nbformat": 4,
 "nbformat_minor": 5
}
