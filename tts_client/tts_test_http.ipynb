{
 "cells": [
  {
   "cell_type": "code",
   "execution_count": 1,
   "id": "55a4be70",
   "metadata": {},
   "outputs": [
    {
     "name": "stdout",
     "output_type": "stream",
     "text": [
      "✅ 서버 응답 저장 완료: response_from_server.wav\n"
     ]
    }
   ],
   "source": [
    "import requests\n",
    "\n",
    "# 🔗 서버 주소 설정 (ngrok 쓸 경우 바꿔주세요)\n",
    "url = \"https://adapted-charmed-panda.ngrok-free.app/voice_stts\"\n",
    "\n",
    "# 🎙️ 보낼 음성 파일 (16kHz WAV 권장)\n",
    "input_wav_path = \"test.wav\"\n",
    "\n",
    "# 📤 파일 바이너리 읽기\n",
    "with open(input_wav_path, \"rb\") as f:\n",
    "    audio_data = f.read()\n",
    "\n",
    "# 🚀 POST 요청 (body로 바이너리 전송)\n",
    "response = requests.post(url, data=audio_data)\n",
    "\n",
    "# ✅ 응답 처리: status OK + audio/wav일 경우\n",
    "if response.status_code == 200 and response.headers.get(\"Content-Type\") == \"audio/wav\":\n",
    "    output_path = \"response_from_server.wav\"\n",
    "    with open(output_path, \"wb\") as f:\n",
    "        f.write(response.content)\n",
    "    print(f\"✅ 서버 응답 저장 완료: {output_path}\")\n",
    "else:\n",
    "    print(\"❌ 오류 발생!\")\n",
    "    print(f\"Status Code: {response.status_code}\")\n",
    "    print(\"Content-Type:\", response.headers.get(\"Content-Type\"))\n",
    "    print(\"본문 내용:\", response.text)\n"
   ]
  }
 ],
 "metadata": {
  "kernelspec": {
   "display_name": "gogo_tts",
   "language": "python",
   "name": "python3"
  },
  "language_info": {
   "codemirror_mode": {
    "name": "ipython",
    "version": 3
   },
   "file_extension": ".py",
   "mimetype": "text/x-python",
   "name": "python",
   "nbconvert_exporter": "python",
   "pygments_lexer": "ipython3",
   "version": "3.10.18"
  }
 },
 "nbformat": 4,
 "nbformat_minor": 5
}
